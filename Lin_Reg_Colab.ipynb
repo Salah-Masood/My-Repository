{
  "nbformat": 4,
  "nbformat_minor": 0,
  "metadata": {
    "colab": {
      "name": "Lin_Reg-Colab.ipynb",
      "provenance": [],
      "collapsed_sections": [],
      "include_colab_link": true
    },
    "kernelspec": {
      "name": "ir",
      "display_name": "R"
    },
    "language_info": {
      "name": "R"
    }
  },
  "cells": [
    {
      "cell_type": "markdown",
      "metadata": {
        "id": "view-in-github",
        "colab_type": "text"
      },
      "source": [
        "<a href=\"https://colab.research.google.com/github/Salah-Masood/My-Repository/blob/main/Lin_Reg_Colab.ipynb\" target=\"_parent\"><img src=\"https://colab.research.google.com/assets/colab-badge.svg\" alt=\"Open In Colab\"/></a>"
      ]
    },
    {
      "cell_type": "code",
      "metadata": {
        "id": "AWGcPYlHVlSe"
      },
      "source": [
        "install.packages('datarium')\n",
        "install.packages('caTools')\n",
        "install.packages('ggplot2')\n",
        "install.packages('GGally')\n",
        "\n"
      ],
      "execution_count": null,
      "outputs": []
    },
    {
      "cell_type": "code",
      "metadata": {
        "id": "qSJbrhlObwN2"
      },
      "source": [
        "library('caTools')\n",
        "library('ggplot2')"
      ],
      "execution_count": 154,
      "outputs": []
    },
    {
      "cell_type": "code",
      "metadata": {
        "id": "d7hUMrj7V-7k"
      },
      "source": [
        "data_file <- read.csv(\"/content/Data.csv\")\n",
        "data_size = dim(data_file )\n",
        "data_size\n"
      ],
      "execution_count": null,
      "outputs": []
    },
    {
      "cell_type": "code",
      "metadata": {
        "id": "Z91aPO1OWS__"
      },
      "source": [
        "head(data_file)"
      ],
      "execution_count": null,
      "outputs": []
    },
    {
      "cell_type": "code",
      "metadata": {
        "id": "WZ_RFrTzWXXn"
      },
      "source": [
        "summary(data_file)"
      ],
      "execution_count": null,
      "outputs": []
    },
    {
      "cell_type": "code",
      "metadata": {
        "id": "X6r0jmCBWc-W"
      },
      "source": [
        "plot(data_file,col='purple',main='Ploting Pairplot for Tranisactions')"
      ],
      "execution_count": null,
      "outputs": []
    },
    {
      "cell_type": "code",
      "metadata": {
        "id": "LGdy2cbEWprB"
      },
      "source": [
        "ratio = .75\n",
        "set.seed(101)\n",
        "\n",
        "sample = sample.split(data_file$Sun,SplitRatio = ratio)\n",
        "train = subset(data_file, sample==TRUE)\n",
        "test = subset(data_file,sample=FALSE)\n",
        "\n",
        "train_size = dim(train)\n",
        "test_size = dim(test)"
      ],
      "execution_count": 192,
      "outputs": []
    },
    {
      "cell_type": "code",
      "metadata": {
        "id": "v31oIdAHXhQt"
      },
      "source": [
        "Model <- lm(Wed ~ Sun+Mon+Tue,data=data_file)\n",
        "summary(Model)\n"
      ],
      "execution_count": null,
      "outputs": []
    },
    {
      "cell_type": "code",
      "metadata": {
        "id": "KS1inOj0YJ9j"
      },
      "source": [
        "pred <- predict(Model,test)\n",
        "numx <- data_size[1] * (1 - ratio)\n",
        "x_axis <- seq(numx)\n",
        "\n"
      ],
      "execution_count": 194,
      "outputs": []
    },
    {
      "cell_type": "code",
      "metadata": {
        "id": "jsERAVFkYmrp"
      },
      "source": [
        "df <- data.frame(x_axis,pred,test$Wed)\n",
        " "
      ],
      "execution_count": 195,
      "outputs": []
    },
    {
      "cell_type": "code",
      "metadata": {
        "id": "1Dh4fKPmZ39M"
      },
      "source": [
        "g <- ggplot(df,aes(x=x_axis))\n",
        "g <- g + geom_line(aes(y=pred, colour='Predicted'))\n",
        "g <- g + geom_point(aes(x=x_axis,y=pred,colour='Predicted'))\n",
        "g <- g + geom_line(aes(y=test$Wed,colour='Actual'))\n",
        "g <- g + geom_point(aes(x=x_axis,y=test$Wed,colour=\"Actual\"))\n",
        "\n",
        "g"
      ],
      "execution_count": null,
      "outputs": []
    },
    {
      "cell_type": "code",
      "metadata": {
        "id": "LZj_ZDBoa0aX"
      },
      "source": [
        "original = test$Wed\n",
        "dd = original - pred\n",
        "mse = mean((dd)^2)\n",
        "test"
      ],
      "execution_count": null,
      "outputs": []
    },
    {
      "cell_type": "code",
      "metadata": {
        "id": "SNZAc9aHcvfc"
      },
      "source": [
        "mse"
      ],
      "execution_count": null,
      "outputs": []
    },
    {
      "cell_type": "code",
      "metadata": {
        "id": "RGlt4RFYcwNt"
      },
      "source": [
        "sqrt(mse)"
      ],
      "execution_count": null,
      "outputs": []
    },
    {
      "cell_type": "code",
      "metadata": {
        "id": "fgT16-WTc0w_"
      },
      "source": [
        "\n",
        "chisq.test(data_file$Wed)"
      ],
      "execution_count": null,
      "outputs": []
    },
    {
      "cell_type": "code",
      "metadata": {
        "id": "5QToR2-dhOUN"
      },
      "source": [
        "coef(Model)"
      ],
      "execution_count": null,
      "outputs": []
    },
    {
      "cell_type": "code",
      "metadata": {
        "id": "PEc3VAoNhtWI"
      },
      "source": [
        "data_file$Sun"
      ],
      "execution_count": null,
      "outputs": []
    }
  ]
}